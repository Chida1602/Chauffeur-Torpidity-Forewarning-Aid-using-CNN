{
 "cells": [
  {
   "cell_type": "code",
   "execution_count": 1,
   "id": "0ca9c616",
   "metadata": {},
   "outputs": [],
   "source": [
    "from __future__ import absolute_import\n",
    "from __future__ import print_function\n",
    "import numpy as np\n",
    "\n",
    "np.random.seed(1337)  # for reproducibility\n",
    "import matplotlib.pyplot as plt\n",
    "\n",
    "from keras.models import Sequential\n",
    "from keras.layers.core import Dense, Dropout, Activation, Flatten\n",
    "from keras.layers.convolutional import Convolution2D, MaxPooling2D\n",
    "from keras.utils import np_utils\n",
    "#from keras.optimizers import SGD, Adadelta, Adagrad, RMSprop, Adam\n",
    "from tensorflow.keras.optimizers import SGD ,Adadelta, Adagrad,RMSprop, Adam\n",
    "\n",
    "from sklearn import svm\n",
    "\n",
    "from six.moves import cPickle as pickle"
   ]
  },
  {
   "cell_type": "code",
   "execution_count": 2,
   "id": "4deed5ce",
   "metadata": {},
   "outputs": [],
   "source": [
    "pickle_files = [r'C:\\Users\\chida\\OneDrive\\Desktop\\back\\Driver Drowsiness Monitoring using\\Driver Drowsiness Monitoring using\\M2\\yawn_detection/yawn_mouths.pickle']\n",
    "i = 0\n",
    "for pickle_file in pickle_files:\n",
    "    with open(pickle_file, 'rb') as f:\n",
    "        save = pickle.load(f)\n",
    "        if i == 0:\n",
    "            train_dataset = save['train_dataset']\n",
    "            train_labels = save['train_labels']\n",
    "            test_dataset = save['test_dataset']\n",
    "            test_labels = save['test_labels']\n",
    "        else:\n",
    "            print(\"here\")\n",
    "            train_dataset = np.concatenate((train_dataset, save['train_dataset']))\n",
    "            train_labels = np.concatenate((train_labels, save['train_labels']))\n",
    "            test_dataset = np.concatenate((test_dataset, save['test_dataset']))\n",
    "            test_labels = np.concatenate((test_labels, save['test_labels']))\n",
    "        del save  # hint to help gc free up memory\n",
    "    i += 1"
   ]
  },
  {
   "cell_type": "code",
   "execution_count": 3,
   "id": "2adfe063",
   "metadata": {},
   "outputs": [
    {
     "name": "stdout",
     "output_type": "stream",
     "text": [
      "Training set (59, 60, 60, 1) (59, 1)\n",
      "Test set (15, 60, 60, 1) (15, 1)\n"
     ]
    }
   ],
   "source": [
    "print('Training set', train_dataset.shape, train_labels.shape)\n",
    "print('Test set', test_dataset.shape, test_labels.shape)"
   ]
  },
  {
   "cell_type": "code",
   "execution_count": 4,
   "id": "cc73dda0",
   "metadata": {},
   "outputs": [],
   "source": [
    "batch_size = 1\n",
    "nb_classes = 1\n",
    "epochs = 20"
   ]
  },
  {
   "cell_type": "code",
   "execution_count": 5,
   "id": "d0df78d0",
   "metadata": {},
   "outputs": [],
   "source": [
    "\n",
    "X_train = train_dataset\n",
    "X_train = X_train.reshape(59,60,60,1)\n",
    "# X_train = X_train.reshape(X_train.shape[0:3])\n",
    "# X_train = X_train.reshape(len(X_train), -1)\n",
    "Y_train = train_labels\n",
    "\n",
    "X_test = test_dataset\n",
    "X_test = X_test.reshape(15,60,60,1)\n",
    "# X_test = X_test.reshape(X_test.shape[0:3])\n",
    "# X_test = X_test.reshape(len(X_test), -1)\n",
    "Y_test = test_labels"
   ]
  },
  {
   "cell_type": "code",
   "execution_count": 6,
   "id": "4eef8c12",
   "metadata": {},
   "outputs": [],
   "source": [
    "# input image dimensions\n",
    "_, img_channels, img_rows, img_cols = X_train.shape\n",
    "\n",
    "# convert class vectors to binary class matrices\n",
    "# Y_train = np_utils.to_categorical(y_train, nb_classes)\n",
    "# Y_test = np_utils.to_categorical(y_test, nb_classes)"
   ]
  },
  {
   "cell_type": "code",
   "execution_count": 7,
   "id": "89e21a36",
   "metadata": {},
   "outputs": [],
   "source": [
    "model = Sequential()\n",
    "\n",
    "model.add(Convolution2D(32, (3, 3), padding='same',\n",
    "                        input_shape=(60,60,1),data_format='channels_last'))\n",
    "model.add(Activation('relu'))\n",
    "model.add(Convolution2D(24, (3, 3), data_format='channels_last'))\n",
    "model.add(Activation('relu'))\n",
    "model.add(MaxPooling2D(pool_size=(2, 2)))\n",
    "model.add(Dropout(0.25))\n",
    "\n",
    "model.add(Convolution2D(64, (3, 3), padding='same', data_format='channels_last'))\n",
    "model.add(Activation('relu'))\n",
    "model.add(Convolution2D(64, (3, 3)))\n",
    "model.add(Activation('relu'))\n",
    "model.add(MaxPooling2D(pool_size=(2, 2)))\n",
    "model.add(Dropout(0.25))\n",
    "\n",
    "model.add(Flatten())\n",
    "model.add(Dense(512))\n",
    "model.add(Activation('relu'))\n",
    "model.add(Dropout(0.5))\n",
    "model.add(Dense(nb_classes))\n",
    "model.add(Activation('sigmoid'))"
   ]
  },
  {
   "cell_type": "code",
   "execution_count": 8,
   "id": "bb0123d0",
   "metadata": {},
   "outputs": [
    {
     "name": "stderr",
     "output_type": "stream",
     "text": [
      "C:\\ProgramData\\Anaconda3\\lib\\site-packages\\keras\\optimizer_v2\\gradient_descent.py:102: UserWarning: The `lr` argument is deprecated, use `learning_rate` instead.\n",
      "  super(SGD, self).__init__(name, **kwargs)\n",
      "C:\\ProgramData\\Anaconda3\\lib\\site-packages\\keras\\optimizer_v2\\rmsprop.py:130: UserWarning: The `lr` argument is deprecated, use `learning_rate` instead.\n",
      "  super(RMSprop, self).__init__(name, **kwargs)\n"
     ]
    }
   ],
   "source": [
    "# let's train the model using SGD + momentum (how original).\n",
    "sgd = SGD(lr=0.001, decay=1e-6, momentum=0.9, nesterov=True)\n",
    "model.compile(loss='binary_crossentropy', optimizer=RMSprop(lr=0.0005), metrics=['accuracy'])"
   ]
  },
  {
   "cell_type": "code",
   "execution_count": 9,
   "id": "e0f65ccc",
   "metadata": {},
   "outputs": [
    {
     "name": "stdout",
     "output_type": "stream",
     "text": [
      "Epoch 1/20\n",
      "59/59 - 4s - loss: 0.7288 - accuracy: 0.5085 - val_loss: 0.6758 - val_accuracy: 0.5333 - 4s/epoch - 71ms/step\n",
      "Epoch 2/20\n",
      "59/59 - 3s - loss: 0.6917 - accuracy: 0.6780 - val_loss: 0.6115 - val_accuracy: 0.6000 - 3s/epoch - 57ms/step\n",
      "Epoch 3/20\n",
      "59/59 - 3s - loss: 0.4169 - accuracy: 0.8305 - val_loss: 0.2471 - val_accuracy: 0.9333 - 3s/epoch - 55ms/step\n",
      "Epoch 4/20\n",
      "59/59 - 3s - loss: 0.4582 - accuracy: 0.8983 - val_loss: 0.3455 - val_accuracy: 0.8667 - 3s/epoch - 51ms/step\n",
      "Epoch 5/20\n",
      "59/59 - 3s - loss: 0.2145 - accuracy: 0.8814 - val_loss: 0.2906 - val_accuracy: 0.9333 - 3s/epoch - 50ms/step\n",
      "Epoch 6/20\n",
      "59/59 - 3s - loss: 0.1407 - accuracy: 0.9661 - val_loss: 0.3015 - val_accuracy: 0.9333 - 3s/epoch - 56ms/step\n",
      "Epoch 7/20\n",
      "59/59 - 3s - loss: 0.0839 - accuracy: 0.9661 - val_loss: 0.2275 - val_accuracy: 0.9333 - 3s/epoch - 52ms/step\n",
      "Epoch 8/20\n",
      "59/59 - 3s - loss: 0.1758 - accuracy: 0.9661 - val_loss: 0.1109 - val_accuracy: 0.9333 - 3s/epoch - 56ms/step\n",
      "Epoch 9/20\n",
      "59/59 - 4s - loss: 0.1316 - accuracy: 0.9661 - val_loss: 0.1313 - val_accuracy: 0.8667 - 4s/epoch - 60ms/step\n",
      "Epoch 10/20\n",
      "59/59 - 3s - loss: 0.2270 - accuracy: 0.9661 - val_loss: 0.3137 - val_accuracy: 0.9333 - 3s/epoch - 51ms/step\n",
      "Epoch 11/20\n",
      "59/59 - 3s - loss: 0.0031 - accuracy: 1.0000 - val_loss: 0.2302 - val_accuracy: 0.8667 - 3s/epoch - 59ms/step\n",
      "Epoch 12/20\n",
      "59/59 - 4s - loss: 0.1614 - accuracy: 0.9831 - val_loss: 0.5163 - val_accuracy: 0.8667 - 4s/epoch - 63ms/step\n",
      "Epoch 13/20\n",
      "59/59 - 3s - loss: 0.3441 - accuracy: 0.9831 - val_loss: 0.1234 - val_accuracy: 0.9333 - 3s/epoch - 49ms/step\n",
      "Epoch 14/20\n",
      "59/59 - 3s - loss: 0.0010 - accuracy: 1.0000 - val_loss: 0.4237 - val_accuracy: 0.8000 - 3s/epoch - 48ms/step\n",
      "Epoch 15/20\n",
      "59/59 - 3s - loss: 0.2889 - accuracy: 0.9831 - val_loss: 0.4254 - val_accuracy: 0.9333 - 3s/epoch - 49ms/step\n",
      "Epoch 16/20\n",
      "59/59 - 3s - loss: 0.0024 - accuracy: 1.0000 - val_loss: 0.7521 - val_accuracy: 0.9333 - 3s/epoch - 49ms/step\n",
      "Epoch 17/20\n",
      "59/59 - 3s - loss: 0.2424 - accuracy: 0.9661 - val_loss: 1.0312 - val_accuracy: 0.9333 - 3s/epoch - 48ms/step\n",
      "Epoch 18/20\n",
      "59/59 - 3s - loss: 0.0839 - accuracy: 0.9831 - val_loss: 0.9772 - val_accuracy: 0.8667 - 3s/epoch - 48ms/step\n",
      "Epoch 19/20\n",
      "59/59 - 3s - loss: 1.4136e-04 - accuracy: 1.0000 - val_loss: 0.3550 - val_accuracy: 0.8667 - 3s/epoch - 48ms/step\n",
      "Epoch 20/20\n",
      "59/59 - 3s - loss: 2.5835e-04 - accuracy: 1.0000 - val_loss: 0.7763 - val_accuracy: 0.8667 - 3s/epoch - 48ms/step\n"
     ]
    },
    {
     "data": {
      "text/plain": [
       "<keras.callbacks.History at 0x1855a26ff10>"
      ]
     },
     "execution_count": 9,
     "metadata": {},
     "output_type": "execute_result"
    }
   ],
   "source": [
    "model.fit(X_train, Y_train, batch_size=batch_size, epochs=epochs, verbose=2, validation_data=[X_test, Y_test])"
   ]
  },
  {
   "cell_type": "code",
   "execution_count": 10,
   "id": "0892233f",
   "metadata": {},
   "outputs": [
    {
     "name": "stdout",
     "output_type": "stream",
     "text": [
      "1/1 [==============================] - 0s 118ms/step - loss: 0.7763 - accuracy: 0.8667\n"
     ]
    }
   ],
   "source": [
    "score = model.evaluate(X_test, Y_test,  verbose=1)"
   ]
  },
  {
   "cell_type": "code",
   "execution_count": 11,
   "id": "8c013efd",
   "metadata": {},
   "outputs": [
    {
     "name": "stdout",
     "output_type": "stream",
     "text": [
      "Test loss: 0.7763091921806335\n",
      "Test accuracy: 0.8666666746139526\n"
     ]
    }
   ],
   "source": [
    "\n",
    "print('Test loss:', score[0])\n",
    "print('Test accuracy:', score[1])"
   ]
  }
 ],
 "metadata": {
  "kernelspec": {
   "display_name": "Python 3 (ipykernel)",
   "language": "python",
   "name": "python3"
  },
  "language_info": {
   "codemirror_mode": {
    "name": "ipython",
    "version": 3
   },
   "file_extension": ".py",
   "mimetype": "text/x-python",
   "name": "python",
   "nbconvert_exporter": "python",
   "pygments_lexer": "ipython3",
   "version": "3.9.7"
  }
 },
 "nbformat": 4,
 "nbformat_minor": 5
}
