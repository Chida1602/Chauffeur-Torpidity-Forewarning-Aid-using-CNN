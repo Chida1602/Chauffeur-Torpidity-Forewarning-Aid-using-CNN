{
 "cells": [
  {
   "cell_type": "code",
   "execution_count": null,
   "metadata": {},
   "outputs": [],
   "source": []
  }
 ],
 "metadata": {
  "kernelspec": {
   "display_name": "Python 3",
   "language": "python",
   "name": "python3"
  },
  "language_info": {
   "name": "python",
   "version": "3.11.2"
  },
  "vscode": {
   "interpreter": {
    "hash": "ddb4759a8c636845abdc989ad6e7b1eccc4cd213fd90498139740e5ea886cff2"
   }
  }
 },
 "nbformat": 4,
 "nbformat_minor": 5
}
